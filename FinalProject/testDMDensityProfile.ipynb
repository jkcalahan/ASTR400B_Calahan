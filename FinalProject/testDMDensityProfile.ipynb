{
 "cells": [
  {
   "cell_type": "code",
   "execution_count": 21,
   "metadata": {
    "collapsed": true
   },
   "outputs": [],
   "source": [
    "%run -i 'DMDensityProfile.py'\n",
    "\n",
    "import matplotlib.pyplot as plt\n",
    "%matplotlib inline"
   ]
  },
  {
   "cell_type": "code",
   "execution_count": 22,
   "metadata": {
    "collapsed": false
   },
   "outputs": [
    {
     "data": {
      "text/plain": [
       "(3500859880.0000224, <Quantity 7.14286>)"
      ]
     },
     "execution_count": 22,
     "metadata": {},
     "output_type": "execute_result"
    }
   ],
   "source": [
    "ReadMass(500,5)"
   ]
  },
  {
   "cell_type": "code",
   "execution_count": 20,
   "metadata": {
    "collapsed": false
   },
   "outputs": [
    {
     "name": "stdout",
     "output_type": "stream",
     "text": [
      "[21.0, 172.0, -23.0]\n"
     ]
    }
   ],
   "source": [
    "snap=500\n",
    "# Determine Filename\n",
    "# add a string of the filenumber to the value \"000\"\n",
    "ilbl = '000' + str(snap)\n",
    "# remove all but the last 3 digits\n",
    "ilbl = ilbl[-3:]\n",
    "# create filenames\n",
    "filename='%s_'%('M33') + ilbl + '.txt'\n",
    "path='/home/jcalahan/HighRes/'+filename\n",
    "\n",
    "# read in the file \n",
    "time, total, data = Read(path)\n",
    "\n",
    "#create an array to store indexes of dark matter particles\n",
    "index = np.where(data['type'] == 1)\n",
    "\n",
    "# store the mass and positions of only the particles of the given type\n",
    "m = data['m'][index]\n",
    "x = data['x'][index]\n",
    "y = data['y'][index]\n",
    "z = data['z'][index]\n",
    "    \n",
    "#Find COM postion of dark matter particles\n",
    "COM = CenterOfMass(path,2)\n",
    "COMP = COM.COM_P(.2,4.0)           #<--using values from HW6\n",
    "print(COMP)\n",
    "    "
   ]
  },
  {
   "cell_type": "code",
   "execution_count": null,
   "metadata": {
    "collapsed": true
   },
   "outputs": [],
   "source": []
  }
 ],
 "metadata": {
  "kernelspec": {
   "display_name": "Python 3",
   "language": "python",
   "name": "python3"
  },
  "language_info": {
   "codemirror_mode": {
    "name": "ipython",
    "version": 3
   },
   "file_extension": ".py",
   "mimetype": "text/x-python",
   "name": "python",
   "nbconvert_exporter": "python",
   "pygments_lexer": "ipython3",
   "version": "3.5.1"
  }
 },
 "nbformat": 4,
 "nbformat_minor": 0
}
