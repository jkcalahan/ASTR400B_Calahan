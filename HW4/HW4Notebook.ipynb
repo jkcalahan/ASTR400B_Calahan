{
 "cells": [
  {
   "cell_type": "code",
   "execution_count": 17,
   "metadata": {},
   "outputs": [],
   "source": [
    "exec(open('CenterofMass_Ex.py').read())"
   ]
  },
  {
   "cell_type": "code",
   "execution_count": null,
   "metadata": {
    "collapsed": true
   },
   "outputs": [],
   "source": [
    "-377.72135606667024 611.4556970583338 -284.6170772000015"
   ]
  },
  {
   "cell_type": "code",
   "execution_count": 18,
   "metadata": {},
   "outputs": [
    {
     "name": "stdout",
     "output_type": "stream",
     "text": [
      "Testing Your Code, Question 1: (delta=.3 kpc)\n",
      "The center of mass of the MW is -1.312 x_hat 2.520 y_hat and -1.427 z_hat kpc\n",
      "75000 75000\n",
      "The center of mass velocity of the MW is: -0.114 x_hat 4.487 y_hat and -1.334 z_hat km/s\n",
      "\n",
      "The center of mass of M31 is -377.658 x_hat 611.430 y_hat and -284.637 z_hat kpc\n",
      "120000 120000\n",
      "The center of mass velocity of M31 is: 72.832 x_hat -72.136 y_hat and 49.011 z_hat km/s\n",
      "\n"
     ]
    }
   ],
   "source": [
    "print(\"Testing Your Code, Question 1: (delta=.3 kpc)\")\n",
    "# Calculate quantities for MW data\n",
    "MWCOMx,MWCOMy,MWCOMz = MWCOM.COM_P(DELTA)\n",
    "print('The center of mass of the MW is %.3f x_hat %.3f y_hat and %.3f z_hat kpc'%(MWCOMx,MWCOMy,MWCOMz))\n",
    "MWCOMvx,MWCOMvy,MWCOMvz = MWCOM.COM_V(MWCOMx,MWCOMy,MWCOMz)\n",
    "print(\"The center of mass velocity of the MW is: %.3f x_hat %.3f y_hat and %.3f z_hat km/s\"%(MWCOMvx,MWCOMvy,MWCOMvz))\n",
    "print('')\n",
    "\n",
    "#Calculate quantities for M31 data\n",
    "M31COMx,M31COMy,M31COMz = M31COM.COM_P(DELTA)\n",
    "print('The center of mass of M31 is %.3f x_hat %.3f y_hat and %.3f z_hat kpc'%(M31COMx,M31COMy,M31COMz))\n",
    "M31COMvx,M31COMvy,M31COMvz = M31COM.COM_V(M31COMx,M31COMy,M31COMz)\n",
    "print(\"The center of mass velocity of M31 is: %.3f x_hat %.3f y_hat and %.3f z_hat km/s\"%(M31COMvx,M31COMvy,M31COMvz))\n",
    "print('')\n",
    "\n",
    "#Calculate quantities for M33 data\n",
    "#M33COMx,M33COMy,M33COMz = M33COM.COM_P(DELTA)\n",
    "#print('The center of mass of M33 is %.3f x_hat %.3f y_hat and %.3f z_hat kpc'%(M33COMx,M33COMy,M33COMz))\n",
    "#M33COMvx,M33COMvy,M33COMvz = M33COM.COM_V(M33COMx,M33COMy,M33COMz)\n",
    "#print(\"The center of mass velocity of M33 is: %.3f x_hat %.3f y_hat and %.3f z_hat km/s\"%(M33COMvx,M33COMvy,M33COMvz))"
   ]
  },
  {
   "cell_type": "code",
   "execution_count": 8,
   "metadata": {},
   "outputs": [
    {
     "ename": "NameError",
     "evalue": "name 'dist' is not defined",
     "output_type": "error",
     "traceback": [
      "\u001b[0;31m---------------------------------------------------------------------------\u001b[0m",
      "\u001b[0;31mNameError\u001b[0m                                 Traceback (most recent call last)",
      "\u001b[0;32m<ipython-input-8-34cf37f29b01>\u001b[0m in \u001b[0;36m<module>\u001b[0;34m()\u001b[0m\n\u001b[0;32m----> 1\u001b[0;31m \u001b[0mprint\u001b[0m\u001b[0;34m(\u001b[0m\u001b[0mdist\u001b[0m\u001b[0;34m)\u001b[0m\u001b[0;34m\u001b[0m\u001b[0m\n\u001b[0m",
      "\u001b[0;31mNameError\u001b[0m: name 'dist' is not defined"
     ]
    }
   ],
   "source": [
    "print(dist)"
   ]
  },
  {
   "cell_type": "code",
   "execution_count": null,
   "metadata": {
    "collapsed": true
   },
   "outputs": [],
   "source": []
  }
 ],
 "metadata": {
  "kernelspec": {
   "display_name": "Python 3",
   "language": "python",
   "name": "python3"
  },
  "language_info": {
   "codemirror_mode": {
    "name": "ipython",
    "version": 3
   },
   "file_extension": ".py",
   "mimetype": "text/x-python",
   "name": "python",
   "nbconvert_exporter": "python",
   "pygments_lexer": "ipython3",
   "version": "3.6.1"
  }
 },
 "nbformat": 4,
 "nbformat_minor": 2
}
