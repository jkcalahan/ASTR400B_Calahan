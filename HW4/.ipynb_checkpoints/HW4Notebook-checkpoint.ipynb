{
 "cells": [
  {
   "cell_type": "code",
   "execution_count": 1,
   "metadata": {
    "collapsed": true
   },
   "outputs": [],
   "source": [
    "exec(open('CenterofMass_Ex.py').read())"
   ]
  },
  {
   "cell_type": "code",
   "execution_count": 6,
   "metadata": {},
   "outputs": [
    {
     "name": "stdout",
     "output_type": "stream",
     "text": [
      "Testing Your Code, Question 1: (delta=.3 kpc)\n",
      "The center of mass of the MW is -1.312 x_hat 2.520 y_hat and -1.427 z_hat kpc\n",
      "The center of mass velocity of the MW is: -0.114 x_hat 4.487 y_hat and -1.334 z_hat km/s\n",
      "\n",
      "The center of mass of M31 is -377.658 x_hat 611.430 y_hat and -284.637 z_hat kpc\n",
      "The center of mass velocity of M31 is: 72.832 x_hat -72.136 y_hat and 49.011 z_hat km/s\n",
      "\n",
      "The center of mass of M33 is -476.220 x_hat 491.440 y_hat and -412.402 z_hat kpc\n",
      "The center of mass velocity of M33 is: 44.422 x_hat 101.784 y_hat and 142.231 z_hat km/s\n"
     ]
    }
   ],
   "source": [
    "print(\"Testing Your Code, Question 1: (delta=.3 kpc)\")\n",
    "# Calculate quantities for MW data\n",
    "MWCOMx,MWCOMy,MWCOMz = MWCOM.COM_P(DELTA)\n",
    "print('The center of mass of the MW is %.3f x_hat %.3f y_hat and %.3f z_hat kpc'%(MWCOMx,MWCOMy,MWCOMz))\n",
    "MWCOMvx,MWCOMvy,MWCOMvz = MWCOM.COM_V(MWCOMx,MWCOMy,MWCOMz)\n",
    "print(\"The center of mass velocity of the MW is: %.3f x_hat %.3f y_hat and %.3f z_hat km/s\"%(MWCOMvx,MWCOMvy,MWCOMvz))\n",
    "print('')\n",
    "\n",
    "#Calculate quantities for M31 data\n",
    "M31COMx,M31COMy,M31COMz = M31COM.COM_P(DELTA)\n",
    "print('The center of mass of M31 is %.3f x_hat %.3f y_hat and %.3f z_hat kpc'%(M31COMx,M31COMy,M31COMz))\n",
    "M31COMvx,M31COMvy,M31COMvz = M31COM.COM_V(M31COMx,M31COMy,M31COMz)\n",
    "print(\"The center of mass velocity of M31 is: %.3f x_hat %.3f y_hat and %.3f z_hat km/s\"%(M31COMvx,M31COMvy,M31COMvz))\n",
    "print('')\n",
    "\n",
    "#Calculate quantities for M33 data\n",
    "M33COMx,M33COMy,M33COMz = M33COM.COM_P(DELTA)\n",
    "print('The center of mass of M33 is %.3f x_hat %.3f y_hat and %.3f z_hat kpc'%(M33COMx,M33COMy,M33COMz))\n",
    "M33COMvx,M33COMvy,M33COMvz = M33COM.COM_V(M33COMx,M33COMy,M33COMz)\n",
    "print(\"The center of mass velocity of M33 is: %.3f x_hat %.3f y_hat and %.3f z_hat km/s\"%(M33COMvx,M33COMvy,M33COMvz))"
   ]
  },
  {
   "cell_type": "code",
   "execution_count": 7,
   "metadata": {},
   "outputs": [
    {
     "name": "stdout",
     "output_type": "stream",
     "text": [
      "Testing Your Code, Question 2:\n",
      "Magnitude of Separation between MW and M31: 769.814 kpc \n",
      "Magnitude of Velocity difference between MW and M31: 117.161 km/s \n"
     ]
    }
   ],
   "source": [
    "print(\"Testing Your Code, Question 2:\")\n",
    "#Find the seperation between the Milky Way and M31\n",
    "sepX=MWCOMx-M31COMx\n",
    "sepY=MWCOMy-M31COMy\n",
    "sepZ=MWCOMz-M31COMz\n",
    "sepmag=np.sqrt(sepX**2+sepY**2+sepZ**2)\n",
    "print(\"Magnitude of Separation between MW and M31: %.3f kpc \"%(sepmag))\n",
    "#Find the velocity difference between the Milky Way and M31\n",
    "velX=MWCOMvx-M31COMvx\n",
    "velY=MWCOMvy-M31COMvy\n",
    "velZ=MWCOMvz-M31COMvz\n",
    "veldiff=np.sqrt(velX**2+velY**2+velZ**2)\n",
    "print(\"Magnitude of Velocity difference between MW and M31: %.3f km/s \"%(veldiff))"
   ]
  },
  {
   "cell_type": "code",
   "execution_count": 8,
   "metadata": {},
   "outputs": [
    {
     "name": "stdout",
     "output_type": "stream",
     "text": [
      "Testing Your Code, Question 3:\n",
      "Magnitude of Separation between MW and M31: 201.087 kpc \n",
      "Magnitude of Velocity difference between MW and M31: 199.362 km/s \n"
     ]
    }
   ],
   "source": [
    "print(\"Testing Your Code, Question 3:\")\n",
    "#Find the seperation between the M31 and M33\n",
    "sepX1=M33COMx-M31COMx\n",
    "sepY1=M33COMy-M31COMy\n",
    "sepZ1=M33COMz-M31COMz\n",
    "sepmag1=np.sqrt(sepX1**2+sepY1**2+sepZ1**2)\n",
    "print(\"Magnitude of Separation between MW and M31: %.3f kpc \"%(sepmag1))\n",
    "#Find the velocity difference between the M31 and M33\n",
    "velX1=M33COMvx-M31COMvx\n",
    "velY1=M33COMvy-M31COMvy\n",
    "velZ1=M33COMvz-M31COMvz\n",
    "veldiff1=np.sqrt(velX1**2+velY1**2+velZ1**2)\n",
    "print(\"Magnitude of Velocity difference between MW and M31: %.3f km/s \"%(veldiff1))"
   ]
  },
  {
   "cell_type": "code",
   "execution_count": 14,
   "metadata": {},
   "outputs": [
    {
     "name": "stdout",
     "output_type": "stream",
     "text": [
      "Testing Your Code, Question 4:\n",
      "An iterative process to determine the COM is important espeically since M31 and M33 are going to merge. When they be-gin to merge, there will be stars flug out very far from the COM, so to determine the most representative COM, we     want to only include stars that are clustered near each other.\n"
     ]
    }
   ],
   "source": [
    "print(\"Testing Your Code, Question 4:\")\n",
    "print(\"An iterative process to determine the COM is important espeically since M31 and M33 are going to merge. When they be-gin to merge, there will be stars flug out very far from the COM, so to determine the most representative COM, we     want to only include stars that are clustered near each other.\")"
   ]
  },
  {
   "cell_type": "code",
   "execution_count": null,
   "metadata": {
    "collapsed": true
   },
   "outputs": [],
   "source": []
  }
 ],
 "metadata": {
  "kernelspec": {
   "display_name": "Python 3",
   "language": "python",
   "name": "python3"
  },
  "language_info": {
   "codemirror_mode": {
    "name": "ipython",
    "version": 3
   },
   "file_extension": ".py",
   "mimetype": "text/x-python",
   "name": "python",
   "nbconvert_exporter": "python",
   "pygments_lexer": "ipython3",
   "version": "3.6.1"
  }
 },
 "nbformat": 4,
 "nbformat_minor": 2
}
