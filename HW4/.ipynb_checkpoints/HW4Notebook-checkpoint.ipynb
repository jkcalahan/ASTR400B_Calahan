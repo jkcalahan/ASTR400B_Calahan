{
 "cells": [
  {
   "cell_type": "code",
   "execution_count": 27,
   "metadata": {},
   "outputs": [],
   "source": [
    "exec(open('CenterofMass_Ex.py').read())"
   ]
  },
  {
   "cell_type": "code",
   "execution_count": 29,
   "metadata": {},
   "outputs": [
    {
     "name": "stdout",
     "output_type": "stream",
     "text": [
      "Testing Your Code, Question 1: (delta=.3 kpc)\n",
      "The center of mass of the MW is -0.565 x_hat 0.250 y_hat and -0.004 z_hat kpc\n",
      "The center of mass velocity of the MW is: -57.267 x_hat -24.684 y_hat and -0.224 z_hat km/s\n",
      "\n",
      "The center of mass of M31 is -0.043 x_hat -0.010 y_hat and 0.071 z_hat kpc\n",
      "The center of mass velocity of M31 is: nan x_hat nan y_hat and nan z_hat km/s\n",
      "\n"
     ]
    },
    {
     "name": "stderr",
     "output_type": "stream",
     "text": [
      "/Users/Jenny/anaconda3/lib/python3.6/site-packages/astropy/units/quantity.py:951: RuntimeWarning: invalid value encountered in true_divide\n",
      "  return super(Quantity, self).__truediv__(other)\n"
     ]
    }
   ],
   "source": [
    "print(\"Testing Your Code, Question 1: (delta=.3 kpc)\")\n",
    "# Calculate quantities for MW data\n",
    "MWCOMx,MWCOMy,MWCOMz = MWCOM.COM_P(DELTA)\n",
    "print('The center of mass of the MW is %.3f x_hat %.3f y_hat and %.3f z_hat kpc'%(MWCOMx,MWCOMy,MWCOMz))\n",
    "MWCOMvx,MWCOMvy,MWCOMvz = MWCOM.COM_V(MWCOMx,MWCOMy,MWCOMz)\n",
    "print(\"The center of mass velocity of the MW is: %.3f x_hat %.3f y_hat and %.3f z_hat km/s\"%(MWCOMvx,MWCOMvy,MWCOMvz))\n",
    "print('')\n",
    "\n",
    "#Calculate quantities for M31 data\n",
    "M31COMx,M31COMy,M31COMz = M31COM.COM_P(DELTA)\n",
    "print('The center of mass of M31 is %.3f x_hat %.3f y_hat and %.3f z_hat kpc'%(M31COMx,M31COMy,M31COMz))\n",
    "M31COMvx,M31COMvy,M31COMvz = M31COM.COM_V(M31COMx,M31COMy,M31COMz)\n",
    "print(\"The center of mass velocity of M31 is: %.3f x_hat %.3f y_hat and %.3f z_hat km/s\"%(M31COMvx,M31COMvy,M31COMvz))\n",
    "print('')\n",
    "\n",
    "#Calculate quantities for M33 data\n",
    "#M33COMx,M33COMy,M33COMz = M33COM.COM_P(DELTA)\n",
    "#print('The center of mass of M33 is %.3f x_hat %.3f y_hat and %.3f z_hat kpc'%(M33COMx,M33COMy,M33COMz))\n",
    "#M33COMvx,M33COMvy,M33COMvz = M33COM.COM_V(M33COMx,M33COMy,M33COMz)\n",
    "#print(\"The center of mass velocity of M33 is: %.3f x_hat %.3f y_hat and %.3f z_hat km/s\"%(M33COMvx,M33COMvy,M33COMvz))"
   ]
  },
  {
   "cell_type": "code",
   "execution_count": null,
   "metadata": {
    "collapsed": true
   },
   "outputs": [],
   "source": []
  }
 ],
 "metadata": {
  "kernelspec": {
   "display_name": "Python 3",
   "language": "python",
   "name": "python3"
  },
  "language_info": {
   "codemirror_mode": {
    "name": "ipython",
    "version": 3
   },
   "file_extension": ".py",
   "mimetype": "text/x-python",
   "name": "python",
   "nbconvert_exporter": "python",
   "pygments_lexer": "ipython3",
   "version": "3.6.1"
  }
 },
 "nbformat": 4,
 "nbformat_minor": 2
}
