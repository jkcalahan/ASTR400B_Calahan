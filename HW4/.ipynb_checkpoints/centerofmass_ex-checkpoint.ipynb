{
 "cells": [
  {
   "cell_type": "code",
   "execution_count": 5,
   "metadata": {
    "collapsed": true
   },
   "outputs": [],
   "source": [
    "# Homework 4                                                                                                           \n",
    "# Center of Mass Position and Velocity                                                                                 \n",
    "\n",
    "# import modules                                                                                                       \n",
    "import numpy as np\n",
    "import astropy.units as u\n",
    "from ReadFile import Read\n",
    "\n"
   ]
  },
  {
   "cell_type": "code",
   "execution_count": 6,
   "metadata": {
    "collapsed": true
   },
   "outputs": [],
   "source": [
    "class CenterOfMass:\n",
    "\n",
    "    def __init__(self, filename, ptype):\n",
    "        # read in the file and particle type                                                                           \n",
    "        self.time, self.total, self.data = Read(filename)\n",
    "\n",
    "        #create an array to store indexes of particles of desired Ptype                                                \n",
    "        self.index = np.where(self.data['type'] == ptype)\n",
    "\n",
    "        # store the mass, positions, velocities of only the particles of the given type                                \n",
    "        self.m = self.data['m'][self.index]\n",
    "\n",
    "        ##### PLACE other particle properties here: x,y,z,vx,vy,vz #####                                               \n",
    "\n",
    "    def total_mass(self):\n",
    "        #Note: you can add other keyword arguments into the function, but 'self' must be first                         \n",
    "        return np.sum(self.m)*u.Msun*1e10\n",
    "\n",
    "    ##### PLACE OTHER FUNCTIONS BELOW #####                                                                            \n",
    "\n",
    "\n",
    "\n",
    "\n"
   ]
  },
  {
   "cell_type": "code",
   "execution_count": 7,
   "metadata": {
    "collapsed": true
   },
   "outputs": [],
   "source": [
    "# EXAMPLE OF USING A CLASS                                                                                             \n",
    "##########################                                                                                             \n",
    "\n",
    "# Create a Center of mass object for the MW                                                                            \n",
    "MWCOM = CenterOfMass(\"MW_000.txt\", 2)\n"
   ]
  },
  {
   "cell_type": "code",
   "execution_count": 8,
   "metadata": {},
   "outputs": [
    {
     "name": "stdout",
     "output_type": "stream",
     "text": [
      "('MW Disk Mass:', <Quantity 75000000000.00003 solMass>)\n"
     ]
    }
   ],
   "source": [
    "\n",
    "# Calculate quantities for MW data                                                                                     \n",
    "MW_mass = MWCOM.total_mass()\n",
    "print(\"MW Disk Mass:\", MW_mass)"
   ]
  },
  {
   "cell_type": "code",
   "execution_count": null,
   "metadata": {
    "collapsed": true
   },
   "outputs": [],
   "source": []
  }
 ],
 "metadata": {
  "kernelspec": {
   "display_name": "Python 3",
   "language": "python",
   "name": "python3"
  },
  "language_info": {
   "codemirror_mode": {
    "name": "ipython",
    "version": 3
   },
   "file_extension": ".py",
   "mimetype": "text/x-python",
   "name": "python",
   "nbconvert_exporter": "python",
   "pygments_lexer": "ipython3",
   "version": "3.6.1"
  }
 },
 "nbformat": 4,
 "nbformat_minor": 2
}
