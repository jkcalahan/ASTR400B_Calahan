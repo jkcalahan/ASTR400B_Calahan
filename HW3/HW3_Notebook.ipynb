{
 "cells": [
  {
   "cell_type": "code",
   "execution_count": 1,
   "metadata": {},
   "outputs": [
    {
     "name": "stdout",
     "output_type": "stream",
     "text": [
      "Milky Way & 1.975 & 0.075 & 0.010 & 2.060 & 0.041 \\\\ \n",
      "M31 & 1.921 & 0.120 & 0.019 & 2.060 & 0.068 \\\\ \n",
      "M33 & 0.187 & 0.009 & 0.000 & 0.196 & 0.047 \\\\ \n",
      "Local Group & 4.082 & 0.204 & 0.029 & 4.316 & 0.054 \\\\ \n"
     ]
    }
   ],
   "source": [
    "exec(open('GalaxyMass.py').read())"
   ]
  },
  {
   "cell_type": "code",
   "execution_count": 2,
   "metadata": {},
   "outputs": [
    {
     "name": "stdout",
     "output_type": "stream",
     "text": [
      "1.97492 0.075 0.01001\n"
     ]
    }
   ],
   "source": [
    "print(MWHalo,MWDisk,MWBulge)"
   ]
  },
  {
   "cell_type": "code",
   "execution_count": 3,
   "metadata": {},
   "outputs": [
    {
     "name": "stdout",
     "output_type": "stream",
     "text": [
      "1.92088 0.12 0.01905\n"
     ]
    }
   ],
   "source": [
    "print(M31Halo,M31Disk,M31Bulge)"
   ]
  },
  {
   "cell_type": "code",
   "execution_count": 4,
   "metadata": {},
   "outputs": [
    {
     "name": "stdout",
     "output_type": "stream",
     "text": [
      "0.18661 0.0093 0.0\n"
     ]
    }
   ],
   "source": [
    "print(M33Halo,M33Disk,M33Bulge)"
   ]
  },
  {
   "cell_type": "code",
   "execution_count": null,
   "metadata": {
    "collapsed": true
   },
   "outputs": [],
   "source": []
  }
 ],
 "metadata": {
  "kernelspec": {
   "display_name": "Python 3",
   "language": "python",
   "name": "python3"
  },
  "language_info": {
   "codemirror_mode": {
    "name": "ipython",
    "version": 3
   },
   "file_extension": ".py",
   "mimetype": "text/x-python",
   "name": "python",
   "nbconvert_exporter": "python",
   "pygments_lexer": "ipython3",
   "version": "3.6.1"
  }
 },
 "nbformat": 4,
 "nbformat_minor": 2
}
